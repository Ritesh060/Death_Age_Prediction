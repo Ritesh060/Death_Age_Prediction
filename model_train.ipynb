{
 "cells": [
  {
   "cell_type": "code",
   "execution_count": 2,
   "metadata": {
    "id": "__bqIbeRFofW"
   },
   "outputs": [],
   "source": [
    "import pandas as pd\n",
    "import io\n",
    "from sklearn.ensemble import RandomForestRegressor\n",
    "import numpy as np\n",
    "from sklearn.decomposition import PCA"
   ]
  },
  {
   "cell_type": "code",
   "execution_count": 3,
   "metadata": {
    "colab": {
     "base_uri": "https://localhost:8080/"
    },
    "id": "2v5GshKzMDyH",
    "outputId": "2f2a6861-a445-4e9f-f90f-be80821ed742"
   },
   "outputs": [
    {
     "name": "stderr",
     "output_type": "stream",
     "text": [
      "C:\\Users\\Ritesh\\AppData\\Local\\Temp\\ipykernel_34016\\251105449.py:1: DtypeWarning: Columns (16,17,18,22,23,24,25,26,27,28,29,30,31,32,33,76) have mixed types. Specify dtype option on import or set low_memory=False.\n",
      "  all_data=pd.read_csv(\"Mortality_09_UP.data\",nrows=25175)\n"
     ]
    }
   ],
   "source": [
    "all_data=pd.read_csv(\"Mortality_09_UP.data\",nrows=25175)"
   ]
  },
  {
   "cell_type": "code",
   "execution_count": 4,
   "metadata": {
    "colab": {
     "base_uri": "https://localhost:8080/",
     "height": 487
    },
    "id": "K_Z6quqsMJ5L",
    "outputId": "8d11dd0d-3a1d-42ff-b5b5-89a9c34ccc3d"
   },
   "outputs": [
    {
     "data": {
      "text/html": [
       "<div>\n",
       "<style scoped>\n",
       "    .dataframe tbody tr th:only-of-type {\n",
       "        vertical-align: middle;\n",
       "    }\n",
       "\n",
       "    .dataframe tbody tr th {\n",
       "        vertical-align: top;\n",
       "    }\n",
       "\n",
       "    .dataframe thead th {\n",
       "        text-align: right;\n",
       "    }\n",
       "</style>\n",
       "<table border=\"1\" class=\"dataframe\">\n",
       "  <thead>\n",
       "    <tr style=\"text-align: right;\">\n",
       "      <th></th>\n",
       "      <th>id</th>\n",
       "      <th>m_id</th>\n",
       "      <th>client_m_id</th>\n",
       "      <th>hl_id</th>\n",
       "      <th>house_no</th>\n",
       "      <th>house_hold_no</th>\n",
       "      <th>state</th>\n",
       "      <th>district</th>\n",
       "      <th>rural</th>\n",
       "      <th>stratum_code</th>\n",
       "      <th>...</th>\n",
       "      <th>householdstatus</th>\n",
       "      <th>isheadchanged</th>\n",
       "      <th>fidh</th>\n",
       "      <th>fidx</th>\n",
       "      <th>as</th>\n",
       "      <th>wt</th>\n",
       "      <th>x</th>\n",
       "      <th>schedule_id</th>\n",
       "      <th>year</th>\n",
       "      <th>v126</th>\n",
       "    </tr>\n",
       "  </thead>\n",
       "  <tbody>\n",
       "    <tr>\n",
       "      <th>0</th>\n",
       "      <td>712232</td>\n",
       "      <td>375.0</td>\n",
       "      <td>NaN</td>\n",
       "      <td>2944.0</td>\n",
       "      <td>63</td>\n",
       "      <td>3</td>\n",
       "      <td>9</td>\n",
       "      <td>58</td>\n",
       "      <td>1</td>\n",
       "      <td>1</td>\n",
       "      <td>...</td>\n",
       "      <td>NaN</td>\n",
       "      <td>NaN</td>\n",
       "      <td>NaN</td>\n",
       "      <td>2.944096e+10</td>\n",
       "      <td>-0.630351</td>\n",
       "      <td>68.37</td>\n",
       "      <td>NaN</td>\n",
       "      <td>4</td>\n",
       "      <td>1</td>\n",
       "      <td>NaN</td>\n",
       "    </tr>\n",
       "    <tr>\n",
       "      <th>1</th>\n",
       "      <td>712240</td>\n",
       "      <td>383.0</td>\n",
       "      <td>NaN</td>\n",
       "      <td>2997.0</td>\n",
       "      <td>28</td>\n",
       "      <td>1</td>\n",
       "      <td>9</td>\n",
       "      <td>58</td>\n",
       "      <td>1</td>\n",
       "      <td>1</td>\n",
       "      <td>...</td>\n",
       "      <td>NaN</td>\n",
       "      <td>NaN</td>\n",
       "      <td>NaN</td>\n",
       "      <td>2.997096e+10</td>\n",
       "      <td>-4.369212</td>\n",
       "      <td>68.37</td>\n",
       "      <td>NaN</td>\n",
       "      <td>4</td>\n",
       "      <td>1</td>\n",
       "      <td>NaN</td>\n",
       "    </tr>\n",
       "    <tr>\n",
       "      <th>2</th>\n",
       "      <td>109886</td>\n",
       "      <td>246.0</td>\n",
       "      <td>NaN</td>\n",
       "      <td>NaN</td>\n",
       "      <td>58</td>\n",
       "      <td>1</td>\n",
       "      <td>9</td>\n",
       "      <td>62</td>\n",
       "      <td>1</td>\n",
       "      <td>2</td>\n",
       "      <td>...</td>\n",
       "      <td>1.0</td>\n",
       "      <td>1.0</td>\n",
       "      <td>9.620340e+13</td>\n",
       "      <td>NaN</td>\n",
       "      <td>NaN</td>\n",
       "      <td>20.95</td>\n",
       "      <td>NaN</td>\n",
       "      <td>4</td>\n",
       "      <td>3</td>\n",
       "      <td>NaN</td>\n",
       "    </tr>\n",
       "    <tr>\n",
       "      <th>3</th>\n",
       "      <td>712216</td>\n",
       "      <td>359.0</td>\n",
       "      <td>NaN</td>\n",
       "      <td>2706.0</td>\n",
       "      <td>196</td>\n",
       "      <td>1</td>\n",
       "      <td>9</td>\n",
       "      <td>58</td>\n",
       "      <td>1</td>\n",
       "      <td>1</td>\n",
       "      <td>...</td>\n",
       "      <td>NaN</td>\n",
       "      <td>NaN</td>\n",
       "      <td>NaN</td>\n",
       "      <td>2.706096e+10</td>\n",
       "      <td>-2.996541</td>\n",
       "      <td>68.37</td>\n",
       "      <td>NaN</td>\n",
       "      <td>4</td>\n",
       "      <td>1</td>\n",
       "      <td>NaN</td>\n",
       "    </tr>\n",
       "    <tr>\n",
       "      <th>4</th>\n",
       "      <td>712224</td>\n",
       "      <td>367.0</td>\n",
       "      <td>NaN</td>\n",
       "      <td>2777.0</td>\n",
       "      <td>253</td>\n",
       "      <td>1</td>\n",
       "      <td>9</td>\n",
       "      <td>58</td>\n",
       "      <td>1</td>\n",
       "      <td>1</td>\n",
       "      <td>...</td>\n",
       "      <td>NaN</td>\n",
       "      <td>NaN</td>\n",
       "      <td>NaN</td>\n",
       "      <td>2.777096e+10</td>\n",
       "      <td>-3.951137</td>\n",
       "      <td>68.37</td>\n",
       "      <td>NaN</td>\n",
       "      <td>4</td>\n",
       "      <td>1</td>\n",
       "      <td>NaN</td>\n",
       "    </tr>\n",
       "    <tr>\n",
       "      <th>...</th>\n",
       "      <td>...</td>\n",
       "      <td>...</td>\n",
       "      <td>...</td>\n",
       "      <td>...</td>\n",
       "      <td>...</td>\n",
       "      <td>...</td>\n",
       "      <td>...</td>\n",
       "      <td>...</td>\n",
       "      <td>...</td>\n",
       "      <td>...</td>\n",
       "      <td>...</td>\n",
       "      <td>...</td>\n",
       "      <td>...</td>\n",
       "      <td>...</td>\n",
       "      <td>...</td>\n",
       "      <td>...</td>\n",
       "      <td>...</td>\n",
       "      <td>...</td>\n",
       "      <td>...</td>\n",
       "      <td>...</td>\n",
       "      <td>...</td>\n",
       "    </tr>\n",
       "    <tr>\n",
       "      <th>25170</th>\n",
       "      <td>643135</td>\n",
       "      <td>410.0</td>\n",
       "      <td>401.0</td>\n",
       "      <td>6366.0</td>\n",
       "      <td>244</td>\n",
       "      <td>1</td>\n",
       "      <td>9</td>\n",
       "      <td>3</td>\n",
       "      <td>1</td>\n",
       "      <td>2</td>\n",
       "      <td>...</td>\n",
       "      <td>NaN</td>\n",
       "      <td>NaN</td>\n",
       "      <td>NaN</td>\n",
       "      <td>6.366090e+10</td>\n",
       "      <td>5.052841</td>\n",
       "      <td>54.85</td>\n",
       "      <td>NaN</td>\n",
       "      <td>4</td>\n",
       "      <td>1</td>\n",
       "      <td>NaN</td>\n",
       "    </tr>\n",
       "    <tr>\n",
       "      <th>25171</th>\n",
       "      <td>643143</td>\n",
       "      <td>938.0</td>\n",
       "      <td>1009.0</td>\n",
       "      <td>6483.0</td>\n",
       "      <td>66</td>\n",
       "      <td>1</td>\n",
       "      <td>9</td>\n",
       "      <td>3</td>\n",
       "      <td>1</td>\n",
       "      <td>2</td>\n",
       "      <td>...</td>\n",
       "      <td>NaN</td>\n",
       "      <td>NaN</td>\n",
       "      <td>NaN</td>\n",
       "      <td>6.483090e+10</td>\n",
       "      <td>0.292205</td>\n",
       "      <td>54.85</td>\n",
       "      <td>NaN</td>\n",
       "      <td>4</td>\n",
       "      <td>1</td>\n",
       "      <td>NaN</td>\n",
       "    </tr>\n",
       "    <tr>\n",
       "      <th>25172</th>\n",
       "      <td>102148</td>\n",
       "      <td>38.0</td>\n",
       "      <td>NaN</td>\n",
       "      <td>NaN</td>\n",
       "      <td>56</td>\n",
       "      <td>1</td>\n",
       "      <td>9</td>\n",
       "      <td>61</td>\n",
       "      <td>2</td>\n",
       "      <td>0</td>\n",
       "      <td>...</td>\n",
       "      <td>1.0</td>\n",
       "      <td>2.0</td>\n",
       "      <td>9.610740e+13</td>\n",
       "      <td>NaN</td>\n",
       "      <td>NaN</td>\n",
       "      <td>54.00</td>\n",
       "      <td>NaN</td>\n",
       "      <td>4</td>\n",
       "      <td>3</td>\n",
       "      <td>NaN</td>\n",
       "    </tr>\n",
       "    <tr>\n",
       "      <th>25173</th>\n",
       "      <td>643119</td>\n",
       "      <td>394.0</td>\n",
       "      <td>385.0</td>\n",
       "      <td>6140.0</td>\n",
       "      <td>34</td>\n",
       "      <td>1</td>\n",
       "      <td>9</td>\n",
       "      <td>3</td>\n",
       "      <td>1</td>\n",
       "      <td>2</td>\n",
       "      <td>...</td>\n",
       "      <td>NaN</td>\n",
       "      <td>NaN</td>\n",
       "      <td>NaN</td>\n",
       "      <td>6.140090e+10</td>\n",
       "      <td>-2.376460</td>\n",
       "      <td>54.85</td>\n",
       "      <td>NaN</td>\n",
       "      <td>4</td>\n",
       "      <td>1</td>\n",
       "      <td>NaN</td>\n",
       "    </tr>\n",
       "    <tr>\n",
       "      <th>25174</th>\n",
       "      <td>643127</td>\n",
       "      <td>402.0</td>\n",
       "      <td>393.0</td>\n",
       "      <td>6229.0</td>\n",
       "      <td>122</td>\n",
       "      <td>1</td>\n",
       "      <td>9</td>\n",
       "      <td>3</td>\n",
       "      <td>1</td>\n",
       "      <td>2</td>\n",
       "      <td>...</td>\n",
       "      <td>NaN</td>\n",
       "      <td>NaN</td>\n",
       "      <td>NaN</td>\n",
       "      <td>6.229090e+10</td>\n",
       "      <td>-0.566020</td>\n",
       "      <td>54.85</td>\n",
       "      <td>NaN</td>\n",
       "      <td>4</td>\n",
       "      <td>1</td>\n",
       "      <td>NaN</td>\n",
       "    </tr>\n",
       "  </tbody>\n",
       "</table>\n",
       "<p>25175 rows × 122 columns</p>\n",
       "</div>"
      ],
      "text/plain": [
       "           id   m_id  client_m_id   hl_id  house_no  house_hold_no  state  \\\n",
       "0      712232  375.0          NaN  2944.0        63              3      9   \n",
       "1      712240  383.0          NaN  2997.0        28              1      9   \n",
       "2      109886  246.0          NaN     NaN        58              1      9   \n",
       "3      712216  359.0          NaN  2706.0       196              1      9   \n",
       "4      712224  367.0          NaN  2777.0       253              1      9   \n",
       "...       ...    ...          ...     ...       ...            ...    ...   \n",
       "25170  643135  410.0        401.0  6366.0       244              1      9   \n",
       "25171  643143  938.0       1009.0  6483.0        66              1      9   \n",
       "25172  102148   38.0          NaN     NaN        56              1      9   \n",
       "25173  643119  394.0        385.0  6140.0        34              1      9   \n",
       "25174  643127  402.0        393.0  6229.0       122              1      9   \n",
       "\n",
       "       district  rural  stratum_code  ...  householdstatus  isheadchanged  \\\n",
       "0            58      1             1  ...              NaN            NaN   \n",
       "1            58      1             1  ...              NaN            NaN   \n",
       "2            62      1             2  ...              1.0            1.0   \n",
       "3            58      1             1  ...              NaN            NaN   \n",
       "4            58      1             1  ...              NaN            NaN   \n",
       "...         ...    ...           ...  ...              ...            ...   \n",
       "25170         3      1             2  ...              NaN            NaN   \n",
       "25171         3      1             2  ...              NaN            NaN   \n",
       "25172        61      2             0  ...              1.0            2.0   \n",
       "25173         3      1             2  ...              NaN            NaN   \n",
       "25174         3      1             2  ...              NaN            NaN   \n",
       "\n",
       "               fidh          fidx        as     wt   x schedule_id year  v126  \n",
       "0               NaN  2.944096e+10 -0.630351  68.37 NaN           4    1   NaN  \n",
       "1               NaN  2.997096e+10 -4.369212  68.37 NaN           4    1   NaN  \n",
       "2      9.620340e+13           NaN       NaN  20.95 NaN           4    3   NaN  \n",
       "3               NaN  2.706096e+10 -2.996541  68.37 NaN           4    1   NaN  \n",
       "4               NaN  2.777096e+10 -3.951137  68.37 NaN           4    1   NaN  \n",
       "...             ...           ...       ...    ...  ..         ...  ...   ...  \n",
       "25170           NaN  6.366090e+10  5.052841  54.85 NaN           4    1   NaN  \n",
       "25171           NaN  6.483090e+10  0.292205  54.85 NaN           4    1   NaN  \n",
       "25172  9.610740e+13           NaN       NaN  54.00 NaN           4    3   NaN  \n",
       "25173           NaN  6.140090e+10 -2.376460  54.85 NaN           4    1   NaN  \n",
       "25174           NaN  6.229090e+10 -0.566020  54.85 NaN           4    1   NaN  \n",
       "\n",
       "[25175 rows x 122 columns]"
      ]
     },
     "execution_count": 4,
     "metadata": {},
     "output_type": "execute_result"
    }
   ],
   "source": [
    "all_data"
   ]
  },
  {
   "cell_type": "code",
   "execution_count": 5,
   "metadata": {
    "id": "2dRz699vY0bf"
   },
   "outputs": [],
   "source": [
    "columns = [\"age\",\"sex\", \"highest_qualification\", \"rural\", \"disability_status\", \"is_water_filter\", \"chew\", \"smoke\", \"alcohol\",\"treatment_source\"]\n",
    "death = all_data[columns].copy()"
   ]
  },
  {
   "cell_type": "code",
   "execution_count": 6,
   "metadata": {
    "id": "gc4_n89QpesQ"
   },
   "outputs": [],
   "source": [
    "for column in columns:\n",
    "    death[column].fillna(death[column].mode()[0], inplace=True)\n"
   ]
  },
  {
   "cell_type": "code",
   "execution_count": 7,
   "metadata": {},
   "outputs": [
    {
     "data": {
      "text/plain": [
       "Index(['age', 'sex', 'highest_qualification', 'rural', 'disability_status',\n",
       "       'is_water_filter', 'chew', 'smoke', 'alcohol', 'treatment_source'],\n",
       "      dtype='object')"
      ]
     },
     "execution_count": 7,
     "metadata": {},
     "output_type": "execute_result"
    }
   ],
   "source": [
    "death.columns"
   ]
  },
  {
   "cell_type": "code",
   "execution_count": 8,
   "metadata": {
    "colab": {
     "base_uri": "https://localhost:8080/"
    },
    "id": "WIKBYuxLpiqo",
    "outputId": "93155224-9637-4469-ee37-e2954e39c92e"
   },
   "outputs": [
    {
     "data": {
      "text/plain": [
       "age                      0\n",
       "sex                      0\n",
       "highest_qualification    0\n",
       "rural                    0\n",
       "disability_status        0\n",
       "is_water_filter          0\n",
       "chew                     0\n",
       "smoke                    0\n",
       "alcohol                  0\n",
       "treatment_source         0\n",
       "dtype: int64"
      ]
     },
     "execution_count": 8,
     "metadata": {},
     "output_type": "execute_result"
    }
   ],
   "source": [
    "death.isnull().sum()"
   ]
  },
  {
   "cell_type": "code",
   "execution_count": 9,
   "metadata": {
    "colab": {
     "base_uri": "https://localhost:8080/",
     "height": 487
    },
    "id": "CnpmYoLlGclT",
    "outputId": "a693a44f-c2c1-44bd-cbf0-0828cf3fd29d"
   },
   "outputs": [
    {
     "data": {
      "text/html": [
       "<div>\n",
       "<style scoped>\n",
       "    .dataframe tbody tr th:only-of-type {\n",
       "        vertical-align: middle;\n",
       "    }\n",
       "\n",
       "    .dataframe tbody tr th {\n",
       "        vertical-align: top;\n",
       "    }\n",
       "\n",
       "    .dataframe thead th {\n",
       "        text-align: right;\n",
       "    }\n",
       "</style>\n",
       "<table border=\"1\" class=\"dataframe\">\n",
       "  <thead>\n",
       "    <tr style=\"text-align: right;\">\n",
       "      <th></th>\n",
       "      <th>age</th>\n",
       "      <th>sex</th>\n",
       "      <th>highest_qualification</th>\n",
       "      <th>rural</th>\n",
       "      <th>disability_status</th>\n",
       "      <th>is_water_filter</th>\n",
       "      <th>chew</th>\n",
       "      <th>smoke</th>\n",
       "      <th>alcohol</th>\n",
       "      <th>treatment_source</th>\n",
       "    </tr>\n",
       "  </thead>\n",
       "  <tbody>\n",
       "    <tr>\n",
       "      <th>0</th>\n",
       "      <td>43.0</td>\n",
       "      <td>1.0</td>\n",
       "      <td>4.0</td>\n",
       "      <td>1</td>\n",
       "      <td>0.0</td>\n",
       "      <td>2.0</td>\n",
       "      <td>7.0</td>\n",
       "      <td>4.0</td>\n",
       "      <td>4.0</td>\n",
       "      <td>0.0</td>\n",
       "    </tr>\n",
       "    <tr>\n",
       "      <th>1</th>\n",
       "      <td>70.0</td>\n",
       "      <td>2.0</td>\n",
       "      <td>0.0</td>\n",
       "      <td>1</td>\n",
       "      <td>0.0</td>\n",
       "      <td>2.0</td>\n",
       "      <td>5.0</td>\n",
       "      <td>4.0</td>\n",
       "      <td>4.0</td>\n",
       "      <td>9.0</td>\n",
       "    </tr>\n",
       "    <tr>\n",
       "      <th>2</th>\n",
       "      <td>57.0</td>\n",
       "      <td>2.0</td>\n",
       "      <td>3.0</td>\n",
       "      <td>1</td>\n",
       "      <td>0.0</td>\n",
       "      <td>2.0</td>\n",
       "      <td>7.0</td>\n",
       "      <td>4.0</td>\n",
       "      <td>4.0</td>\n",
       "      <td>0.0</td>\n",
       "    </tr>\n",
       "    <tr>\n",
       "      <th>3</th>\n",
       "      <td>50.0</td>\n",
       "      <td>1.0</td>\n",
       "      <td>0.0</td>\n",
       "      <td>1</td>\n",
       "      <td>0.0</td>\n",
       "      <td>2.0</td>\n",
       "      <td>1.0</td>\n",
       "      <td>1.0</td>\n",
       "      <td>1.0</td>\n",
       "      <td>9.0</td>\n",
       "    </tr>\n",
       "    <tr>\n",
       "      <th>4</th>\n",
       "      <td>65.0</td>\n",
       "      <td>2.0</td>\n",
       "      <td>0.0</td>\n",
       "      <td>1</td>\n",
       "      <td>0.0</td>\n",
       "      <td>2.0</td>\n",
       "      <td>7.0</td>\n",
       "      <td>4.0</td>\n",
       "      <td>4.0</td>\n",
       "      <td>0.0</td>\n",
       "    </tr>\n",
       "    <tr>\n",
       "      <th>...</th>\n",
       "      <td>...</td>\n",
       "      <td>...</td>\n",
       "      <td>...</td>\n",
       "      <td>...</td>\n",
       "      <td>...</td>\n",
       "      <td>...</td>\n",
       "      <td>...</td>\n",
       "      <td>...</td>\n",
       "      <td>...</td>\n",
       "      <td>...</td>\n",
       "    </tr>\n",
       "    <tr>\n",
       "      <th>25170</th>\n",
       "      <td>38.0</td>\n",
       "      <td>1.0</td>\n",
       "      <td>4.0</td>\n",
       "      <td>1</td>\n",
       "      <td>0.0</td>\n",
       "      <td>2.0</td>\n",
       "      <td>3.0</td>\n",
       "      <td>4.0</td>\n",
       "      <td>4.0</td>\n",
       "      <td>9.0</td>\n",
       "    </tr>\n",
       "    <tr>\n",
       "      <th>25171</th>\n",
       "      <td>38.0</td>\n",
       "      <td>2.0</td>\n",
       "      <td>0.0</td>\n",
       "      <td>1</td>\n",
       "      <td>0.0</td>\n",
       "      <td>2.0</td>\n",
       "      <td>7.0</td>\n",
       "      <td>4.0</td>\n",
       "      <td>4.0</td>\n",
       "      <td>8.0</td>\n",
       "    </tr>\n",
       "    <tr>\n",
       "      <th>25172</th>\n",
       "      <td>42.0</td>\n",
       "      <td>1.0</td>\n",
       "      <td>0.0</td>\n",
       "      <td>2</td>\n",
       "      <td>0.0</td>\n",
       "      <td>2.0</td>\n",
       "      <td>1.0</td>\n",
       "      <td>1.0</td>\n",
       "      <td>4.0</td>\n",
       "      <td>6.0</td>\n",
       "    </tr>\n",
       "    <tr>\n",
       "      <th>25173</th>\n",
       "      <td>35.0</td>\n",
       "      <td>1.0</td>\n",
       "      <td>0.0</td>\n",
       "      <td>1</td>\n",
       "      <td>0.0</td>\n",
       "      <td>2.0</td>\n",
       "      <td>7.0</td>\n",
       "      <td>1.0</td>\n",
       "      <td>4.0</td>\n",
       "      <td>8.0</td>\n",
       "    </tr>\n",
       "    <tr>\n",
       "      <th>25174</th>\n",
       "      <td>60.0</td>\n",
       "      <td>2.0</td>\n",
       "      <td>0.0</td>\n",
       "      <td>1</td>\n",
       "      <td>0.0</td>\n",
       "      <td>2.0</td>\n",
       "      <td>7.0</td>\n",
       "      <td>4.0</td>\n",
       "      <td>4.0</td>\n",
       "      <td>8.0</td>\n",
       "    </tr>\n",
       "  </tbody>\n",
       "</table>\n",
       "<p>25175 rows × 10 columns</p>\n",
       "</div>"
      ],
      "text/plain": [
       "        age  sex  highest_qualification  rural  disability_status  \\\n",
       "0      43.0  1.0                    4.0      1                0.0   \n",
       "1      70.0  2.0                    0.0      1                0.0   \n",
       "2      57.0  2.0                    3.0      1                0.0   \n",
       "3      50.0  1.0                    0.0      1                0.0   \n",
       "4      65.0  2.0                    0.0      1                0.0   \n",
       "...     ...  ...                    ...    ...                ...   \n",
       "25170  38.0  1.0                    4.0      1                0.0   \n",
       "25171  38.0  2.0                    0.0      1                0.0   \n",
       "25172  42.0  1.0                    0.0      2                0.0   \n",
       "25173  35.0  1.0                    0.0      1                0.0   \n",
       "25174  60.0  2.0                    0.0      1                0.0   \n",
       "\n",
       "       is_water_filter  chew  smoke  alcohol  treatment_source  \n",
       "0                  2.0   7.0    4.0      4.0               0.0  \n",
       "1                  2.0   5.0    4.0      4.0               9.0  \n",
       "2                  2.0   7.0    4.0      4.0               0.0  \n",
       "3                  2.0   1.0    1.0      1.0               9.0  \n",
       "4                  2.0   7.0    4.0      4.0               0.0  \n",
       "...                ...   ...    ...      ...               ...  \n",
       "25170              2.0   3.0    4.0      4.0               9.0  \n",
       "25171              2.0   7.0    4.0      4.0               8.0  \n",
       "25172              2.0   1.0    1.0      4.0               6.0  \n",
       "25173              2.0   7.0    1.0      4.0               8.0  \n",
       "25174              2.0   7.0    4.0      4.0               8.0  \n",
       "\n",
       "[25175 rows x 10 columns]"
      ]
     },
     "execution_count": 9,
     "metadata": {},
     "output_type": "execute_result"
    }
   ],
   "source": [
    "death"
   ]
  },
  {
   "cell_type": "code",
   "execution_count": 10,
   "metadata": {
    "colab": {
     "base_uri": "https://localhost:8080/"
    },
    "id": "9KF8cBrpFtKG",
    "outputId": "4f84779a-a034-4ab7-839b-5023e5ca5a05"
   },
   "outputs": [
    {
     "data": {
      "text/plain": [
       "age                      float64\n",
       "sex                      float64\n",
       "highest_qualification    float64\n",
       "rural                      int64\n",
       "disability_status        float64\n",
       "is_water_filter          float64\n",
       "chew                     float64\n",
       "smoke                    float64\n",
       "alcohol                  float64\n",
       "treatment_source         float64\n",
       "dtype: object"
      ]
     },
     "execution_count": 10,
     "metadata": {},
     "output_type": "execute_result"
    }
   ],
   "source": [
    "death.dtypes"
   ]
  },
  {
   "cell_type": "code",
   "execution_count": 11,
   "metadata": {
    "id": "JWoVMu4kq_0k"
   },
   "outputs": [],
   "source": [
    "x=death.drop('age',axis=1)\n",
    "y=death['age']"
   ]
  },
  {
   "cell_type": "code",
   "execution_count": 12,
   "metadata": {
    "colab": {
     "base_uri": "https://localhost:8080/"
    },
    "id": "DTBjdWv1rHKD",
    "outputId": "0d63eac2-55ab-4743-f20c-e33c2edd16bb"
   },
   "outputs": [
    {
     "data": {
      "text/plain": [
       "(25175, 9)"
      ]
     },
     "execution_count": 12,
     "metadata": {},
     "output_type": "execute_result"
    }
   ],
   "source": [
    "x.shape"
   ]
  },
  {
   "cell_type": "code",
   "execution_count": 13,
   "metadata": {
    "colab": {
     "base_uri": "https://localhost:8080/"
    },
    "id": "guIUGSszFwJt",
    "outputId": "782f8e98-c5af-4025-ff35-24f53d28e28a"
   },
   "outputs": [
    {
     "data": {
      "text/plain": [
       "sex                      float64\n",
       "highest_qualification    float64\n",
       "rural                      int64\n",
       "disability_status        float64\n",
       "is_water_filter          float64\n",
       "chew                     float64\n",
       "smoke                    float64\n",
       "alcohol                  float64\n",
       "treatment_source         float64\n",
       "dtype: object"
      ]
     },
     "execution_count": 13,
     "metadata": {},
     "output_type": "execute_result"
    }
   ],
   "source": [
    "x.dtypes"
   ]
  },
  {
   "cell_type": "code",
   "execution_count": 14,
   "metadata": {
    "colab": {
     "base_uri": "https://localhost:8080/"
    },
    "id": "YbDv1mqYrItn",
    "outputId": "7078b7ea-4bce-496f-9595-f03074b629c1"
   },
   "outputs": [
    {
     "data": {
      "text/plain": [
       "(25175,)"
      ]
     },
     "execution_count": 14,
     "metadata": {},
     "output_type": "execute_result"
    }
   ],
   "source": [
    "y.shape"
   ]
  },
  {
   "cell_type": "code",
   "execution_count": 15,
   "metadata": {
    "id": "luOCyZesrTTW"
   },
   "outputs": [],
   "source": [
    "#train-test split\n",
    "from sklearn.model_selection import train_test_split\n",
    "\n",
    "X_train, X_test,y_train, y_test = train_test_split(x,y ,random_state=104,test_size=0.25,shuffle=True)"
   ]
  },
  {
   "cell_type": "code",
   "execution_count": 16,
   "metadata": {
    "colab": {
     "base_uri": "https://localhost:8080/"
    },
    "id": "f1U0H5Aqs6MW",
    "outputId": "171443b8-41de-4a90-d5d8-9e1c9df9ffc3"
   },
   "outputs": [
    {
     "data": {
      "text/plain": [
       "(18881, 9)"
      ]
     },
     "execution_count": 16,
     "metadata": {},
     "output_type": "execute_result"
    }
   ],
   "source": [
    "X_train.shape"
   ]
  },
  {
   "cell_type": "code",
   "execution_count": 17,
   "metadata": {
    "id": "ngu5xwrWplz1"
   },
   "outputs": [],
   "source": [
    "import tensorflow as tf\n"
   ]
  },
  {
   "cell_type": "code",
   "execution_count": 18,
   "metadata": {
    "id": "rD5I9NQepwL-"
   },
   "outputs": [],
   "source": [
    "#Build model\n",
    "\n",
    "model=tf.keras.Sequential()"
   ]
  },
  {
   "cell_type": "code",
   "execution_count": 33,
   "metadata": {},
   "outputs": [],
   "source": [
    "import tensorflow as tf\n",
    "\n",
    "bias=tf.keras.initializers.HeNormal()\n",
    "\n",
    "model = tf.keras.Sequential([\n",
    "  tf.keras.layers.Dense(10, kernel_initializer=\"he_normal\", bias_initializer=bias, activation='sigmoid', input_shape=(9,)),\n",
    "  tf.keras.layers.Dense(20, kernel_initializer=\"he_normal\", bias_initializer=bias, activation='relu'),\n",
    "  tf.keras.layers.Dense(1, kernel_initializer=\"he_normal\", bias_initializer=bias, activation='swish', input_shape=(9,)),\n",
    "])\n"
   ]
  },
  {
   "cell_type": "code",
   "execution_count": 34,
   "metadata": {
    "colab": {
     "base_uri": "https://localhost:8080/"
    },
    "id": "vKsDJYLus_Ve",
    "outputId": "5b6acb09-3cc4-42c7-aabd-c07c3f60624d"
   },
   "outputs": [
    {
     "name": "stdout",
     "output_type": "stream",
     "text": [
      "Model: \"sequential_2\"\n",
      "_________________________________________________________________\n",
      " Layer (type)                Output Shape              Param #   \n",
      "=================================================================\n",
      " dense_3 (Dense)             (None, 10)                100       \n",
      "                                                                 \n",
      " dense_4 (Dense)             (None, 20)                220       \n",
      "                                                                 \n",
      " dense_5 (Dense)             (None, 1)                 21        \n",
      "                                                                 \n",
      "=================================================================\n",
      "Total params: 341\n",
      "Trainable params: 341\n",
      "Non-trainable params: 0\n",
      "_________________________________________________________________\n"
     ]
    }
   ],
   "source": [
    "model.summary()"
   ]
  },
  {
   "cell_type": "code",
   "execution_count": 35,
   "metadata": {
    "id": "BHERl9jsuHoB"
   },
   "outputs": [],
   "source": [
    "model.compile(optimizer=tf.keras.optimizers.Adam(0.1),loss=tf.keras.losses.MeanAbsoluteError(),metrics=[tf.keras.metrics.RootMeanSquaredError()])"
   ]
  },
  {
   "cell_type": "code",
   "execution_count": 37,
   "metadata": {
    "colab": {
     "base_uri": "https://localhost:8080/"
    },
    "id": "71Wo-Psxvqju",
    "outputId": "ca262a6b-1b88-4c60-9b3a-24f3135af71b"
   },
   "outputs": [
    {
     "name": "stdout",
     "output_type": "stream",
     "text": [
      "Epoch 1/20\n",
      "1181/1181 [==============================] - 2s 1ms/step - loss: 12.6558 - root_mean_squared_error: 15.5540\n",
      "Epoch 2/20\n",
      "1181/1181 [==============================] - 1s 1ms/step - loss: 12.3249 - root_mean_squared_error: 15.0215\n",
      "Epoch 3/20\n",
      "1181/1181 [==============================] - 1s 1ms/step - loss: 12.3767 - root_mean_squared_error: 15.0431\n",
      "Epoch 4/20\n",
      "1181/1181 [==============================] - 1s 1ms/step - loss: 12.2405 - root_mean_squared_error: 14.9238\n",
      "Epoch 5/20\n",
      "1181/1181 [==============================] - 1s 1ms/step - loss: 12.2057 - root_mean_squared_error: 14.8723\n",
      "Epoch 6/20\n",
      "1181/1181 [==============================] - 1s 1ms/step - loss: 12.2342 - root_mean_squared_error: 14.8951\n",
      "Epoch 7/20\n",
      "1181/1181 [==============================] - 1s 1ms/step - loss: 12.2573 - root_mean_squared_error: 14.9542\n",
      "Epoch 8/20\n",
      "1181/1181 [==============================] - 1s 1ms/step - loss: 12.1107 - root_mean_squared_error: 14.7764\n",
      "Epoch 9/20\n",
      "1181/1181 [==============================] - 1s 1ms/step - loss: 12.1351 - root_mean_squared_error: 14.8047\n",
      "Epoch 10/20\n",
      "1181/1181 [==============================] - 1s 1ms/step - loss: 12.0968 - root_mean_squared_error: 14.7585\n",
      "Epoch 11/20\n",
      "1181/1181 [==============================] - 1s 1ms/step - loss: 12.1433 - root_mean_squared_error: 14.8060\n",
      "Epoch 12/20\n",
      "1181/1181 [==============================] - 1s 1ms/step - loss: 12.0602 - root_mean_squared_error: 14.7168\n",
      "Epoch 13/20\n",
      "1181/1181 [==============================] - 2s 1ms/step - loss: 12.0444 - root_mean_squared_error: 14.6955\n",
      "Epoch 14/20\n",
      "1181/1181 [==============================] - 1s 1ms/step - loss: 12.0631 - root_mean_squared_error: 14.6999\n",
      "Epoch 15/20\n",
      "1181/1181 [==============================] - 2s 1ms/step - loss: 12.0330 - root_mean_squared_error: 14.6348\n",
      "Epoch 16/20\n",
      "1181/1181 [==============================] - 1s 1ms/step - loss: 12.0446 - root_mean_squared_error: 14.6314\n",
      "Epoch 17/20\n",
      "1181/1181 [==============================] - 1s 1ms/step - loss: 11.9867 - root_mean_squared_error: 14.5748\n",
      "Epoch 18/20\n",
      "1181/1181 [==============================] - 1s 1ms/step - loss: 12.0049 - root_mean_squared_error: 14.5997\n",
      "Epoch 19/20\n",
      "1181/1181 [==============================] - 1s 1ms/step - loss: 12.0107 - root_mean_squared_error: 14.6208\n",
      "Epoch 20/20\n",
      "1181/1181 [==============================] - 1s 1ms/step - loss: 12.0086 - root_mean_squared_error: 14.6203\n"
     ]
    }
   ],
   "source": [
    "learning=model.fit(X_train,y_train,epochs=20,batch_size=16,verbose=True)"
   ]
  },
  {
   "cell_type": "code",
   "execution_count": 38,
   "metadata": {
    "id": "QLLtn7gEyNIE"
   },
   "outputs": [],
   "source": [
    "import matplotlib.pyplot as plt"
   ]
  },
  {
   "cell_type": "code",
   "execution_count": 39,
   "metadata": {
    "id": "hcyJPqaAwmXP"
   },
   "outputs": [],
   "source": [
    "def plot(learning):\n",
    "  plt.plot(learning.history['loss'])\n",
    "  plt.xlabel(\"epochs\")\n",
    "  plt.ylabel(\"Cost\")\n",
    "\n",
    "  plt.show()\n"
   ]
  },
  {
   "cell_type": "code",
   "execution_count": 40,
   "metadata": {
    "colab": {
     "base_uri": "https://localhost:8080/",
     "height": 449
    },
    "id": "qXR14ENhyfIE",
    "outputId": "e3d3d94e-db7a-4469-a374-b57593c14997"
   },
   "outputs": [
    {
     "data": {
      "image/png": "[encoded data removed]",
      "text/plain": [
       "<Figure size 432x288 with 1 Axes>"
      ]
     },
     "metadata": {
      "needs_background": "light"
     },
     "output_type": "display_data"
    }
   ],
   "source": [
    "plot(learning)"
   ]
  },
  {
   "cell_type": "code",
   "execution_count": 30,
   "metadata": {
    "colab": {
     "base_uri": "https://localhost:8080/"
    },
    "id": "EX9x_DITjcsx",
    "outputId": "e79df952-a11f-4b22-fbc5-dcbc34aef2b4"
   },
   "outputs": [
    {
     "data": {
      "text/plain": [
       "[<tf.Variable 'dense/kernel:0' shape=(9, 10) dtype=float32, numpy=\n",
       " array([[ 8.6028540e-01, -1.6636610e-01,  9.7300011e-01,  8.9534682e-01,\n",
       "          3.8877627e-01, -4.7437495e-01,  1.0934664e+00,  1.1764530e+00,\n",
       "          6.9098783e-01,  1.1581202e+00],\n",
       "        [-3.2742262e-02, -9.8281389e-01, -2.2142351e-01,  8.0102688e-01,\n",
       "          7.6709527e-01, -5.8828580e-01,  7.8341454e-01,  3.4000659e-01,\n",
       "          4.2410094e-01,  7.6931232e-01],\n",
       "        [ 9.3480015e-01, -1.1150360e+00,  6.2413794e-01,  4.5967653e-01,\n",
       "          1.0495573e+00, -1.1411319e+00,  1.6416475e+00,  7.3380440e-01,\n",
       "          9.1123837e-01,  6.4629364e-01],\n",
       "        [ 1.0339028e-01,  3.3263966e-01, -1.6052571e-01,  6.8789917e-01,\n",
       "          1.2965111e-01, -4.8107386e-01,  2.7710181e-01,  2.6191372e-01,\n",
       "          1.4972895e-01, -5.1657957e-01],\n",
       "        [ 1.2004646e+00, -3.6901928e-02,  1.2700311e+00,  3.2839820e-01,\n",
       "          2.8119534e-01, -1.3993031e-01,  8.8492227e-01,  1.9564557e-01,\n",
       "          7.2985733e-01,  6.2174970e-01],\n",
       "        [ 5.6006265e-01, -8.8088053e-01,  1.3864735e+00,  2.8389025e-01,\n",
       "          1.0871598e+00, -5.3782338e-01,  1.5908320e+00,  7.0933676e-01,\n",
       "          8.5911804e-01,  9.7220170e-01],\n",
       "        [-1.3773471e-01, -5.2769834e-01,  5.4555380e-01,  4.0352446e-01,\n",
       "          1.4951698e+00, -6.0655510e-01,  3.3830151e-01,  3.0904955e-01,\n",
       "          8.9217111e-02,  6.5755117e-01],\n",
       "        [ 1.4826040e+00, -1.6094062e-01,  3.9634147e-01, -1.8691136e-01,\n",
       "          5.3765321e-01, -1.0576329e+00,  3.6169147e-01,  1.1561505e+00,\n",
       "          8.9179772e-01,  4.5369074e-01],\n",
       "        [ 1.6570764e+00, -6.3939375e-01, -3.6083616e-04,  1.2759268e+00,\n",
       "         -1.8589659e-02, -3.8987127e-01,  8.5180558e-02,  6.6866827e-01,\n",
       "          1.1574935e+00,  8.2454652e-01]], dtype=float32)>,\n",
       " <tf.Variable 'dense/bias:0' shape=(10,) dtype=float32, numpy=\n",
       " array([ 0.67717344, -0.10921356,  1.3878403 ,  1.1007329 ,  0.68303984,\n",
       "        -0.7019935 ,  0.9840918 ,  0.40238437,  1.186846  ,  0.1092293 ],\n",
       "       dtype=float32)>,\n",
       " <tf.Variable 'dense_1/kernel:0' shape=(10, 20) dtype=float32, numpy=\n",
       " array([[ 0.7838615 ,  0.14752944,  0.9391096 ,  0.94106627,  0.6240343 ,\n",
       "         -0.6620818 ,  1.4304671 ,  1.0566051 , -0.29201284,  0.79759306,\n",
       "         -0.8761285 , -0.21209039,  1.377431  , -0.79319966, -0.21935172,\n",
       "          0.6844214 ,  0.9177774 ,  0.08688069,  0.30991575,  0.6858058 ],\n",
       "        [-0.31645653, -0.2774616 ,  0.33373964,  0.73193246,  0.9134824 ,\n",
       "         -0.93806523,  0.598265  ,  0.47083485, -0.50872695,  1.3252285 ,\n",
       "         -0.80192   , -0.44323057,  1.2308495 ,  0.8432164 ,  0.14826563,\n",
       "          0.2945446 ,  0.40495372,  0.3570776 , -0.4464804 ,  0.53224784],\n",
       "        [ 0.87666374, -0.41326973,  0.46194726,  0.9804886 ,  0.9617857 ,\n",
       "          0.31620023,  1.0863417 ,  0.98644596, -0.17153965,  0.9071867 ,\n",
       "         -0.725599  , -0.03228037,  0.26504463, -0.05863646,  0.19453628,\n",
       "          1.6596327 ,  0.2625399 ,  0.00545375, -1.2557849 ,  1.0077959 ],\n",
       "        [ 0.8969221 ,  0.36559364,  0.35205984,  1.3263631 ,  0.60762715,\n",
       "         -0.8793014 ,  1.207788  ,  0.59784055, -0.48088276,  1.312389  ,\n",
       "          0.01847021, -0.93726176, -0.02065971, -0.5888848 ,  0.8567762 ,\n",
       "          0.5708005 ,  0.91580546, -0.19792792, -0.69962454,  1.5511415 ],\n",
       "        [ 0.8036496 ,  0.08683244,  1.360667  ,  0.587253  ,  1.2461711 ,\n",
       "         -0.6685852 ,  0.52948415,  0.91463715, -0.78621906,  0.44654518,\n",
       "         -0.05487674,  0.21391772,  0.63393235, -0.26934108, -0.38488266,\n",
       "         -0.09021554,  0.901896  , -0.15156381, -0.58658427,  1.341887  ],\n",
       "        [ 0.7899262 , -0.1524072 , -0.24323824,  0.6401148 ,  0.90345633,\n",
       "          0.07368854, -0.2925955 ,  1.5058614 , -0.0069388 ,  0.34719622,\n",
       "         -0.28984946, -0.19180316, -0.19379017,  0.17330252, -0.42258954,\n",
       "          0.16786255,  1.2555519 , -0.01822624, -0.62145776,  0.89973205],\n",
       "        [ 0.74465996, -0.40019783,  0.9271928 ,  1.1949815 ,  0.80385256,\n",
       "          0.34235752,  1.4508553 ,  1.1497803 , -0.1684213 ,  1.5370305 ,\n",
       "          0.0604641 , -0.36824417,  0.11170004, -0.15232252, -0.23064262,\n",
       "          1.2772841 ,  0.35976118, -0.1914882 , -0.23510392,  1.4794073 ],\n",
       "        [ 0.7922561 , -0.43423215,  1.3285863 ,  0.27015892,  0.885114  ,\n",
       "         -0.73955566,  0.19226754,  1.4586444 , -0.3591066 ,  0.83643526,\n",
       "          0.19985065, -0.276457  ,  0.31030002, -0.17293045, -0.979557  ,\n",
       "          0.9292455 ,  0.8469671 , -0.46302888, -1.0238751 ,  1.2567137 ],\n",
       "        [ 0.43341312, -0.13022031,  0.25094518,  1.1605242 ,  0.34540567,\n",
       "          0.36640933,  1.0491875 ,  0.6087149 , -0.5049377 ,  0.6544046 ,\n",
       "         -0.6965773 , -0.20339581,  1.6257554 , -0.45777607, -0.17253324,\n",
       "          1.3516657 ,  0.10836554, -0.41037408, -0.1044551 ,  1.0803558 ],\n",
       "        [ 0.10985238, -0.37182283,  0.9196507 , -0.07416476,  1.0122125 ,\n",
       "         -0.35272387,  0.72314346,  0.8183384 ,  0.7429031 ,  0.41738895,\n",
       "         -0.04788921, -0.2264685 ,  0.61792976,  0.01602601, -0.10796022,\n",
       "          0.73076874,  1.5307397 ,  0.26066074, -0.927344  ,  1.1284839 ]],\n",
       "       dtype=float32)>,\n",
       " <tf.Variable 'dense_1/bias:0' shape=(20,) dtype=float32, numpy=\n",
       " array([ 0.65175056,  0.01101806,  0.4881172 ,  1.439065  ,  0.6502488 ,\n",
       "         0.27382526,  0.660499  ,  0.68359643, -0.15186489,  1.1742947 ,\n",
       "        -0.35988614, -0.8637103 ,  1.076049  ,  0.06209923, -0.29320085,\n",
       "         0.5502829 ,  0.58985895, -0.13667299, -1.1930364 ,  0.3085089 ],\n",
       "       dtype=float32)>,\n",
       " <tf.Variable 'dense_2/kernel:0' shape=(20, 1) dtype=float32, numpy=\n",
       " array([[-1.0065261 ],\n",
       "        [ 0.30663362],\n",
       "        [-0.90425175],\n",
       "        [-0.95673156],\n",
       "        [-0.6982013 ],\n",
       "        [ 0.28028023],\n",
       "        [-0.8380373 ],\n",
       "        [-0.74173534],\n",
       "        [ 0.3787707 ],\n",
       "        [-0.7433984 ],\n",
       "        [ 0.6364363 ],\n",
       "        [-0.54728967],\n",
       "        [-0.81947243],\n",
       "        [-0.5217972 ],\n",
       "        [-0.5709166 ],\n",
       "        [-1.2125305 ],\n",
       "        [-0.938582  ],\n",
       "        [-0.05146834],\n",
       "        [-0.5110238 ],\n",
       "        [-1.082081  ]], dtype=float32)>,\n",
       " <tf.Variable 'dense_2/bias:0' shape=(1,) dtype=float32, numpy=array([-2.5571477], dtype=float32)>]"
      ]
     },
     "execution_count": 30,
     "metadata": {},
     "output_type": "execute_result"
    }
   ],
   "source": [
    "model.weights"
   ]
  },
  {
   "cell_type": "code",
   "execution_count": 46,
   "metadata": {},
   "outputs": [
    {
     "name": "stdout",
     "output_type": "stream",
     "text": [
      "INFO:tensorflow:Assets written to: Age_prediction\\assets\n"
     ]
    }
   ],
   "source": [
    "model.save(\"Age_prediction\")"
   ]
  },
  {
   "cell_type": "code",
   "execution_count": 48,
   "metadata": {},
   "outputs": [],
   "source": [
    "from tensorflow.keras import models\n",
    "model = models.load_model(\"Age_prediction\")"
   ]
  },
  {
   "cell_type": "code",
   "execution_count": 49,
   "metadata": {},
   "outputs": [
    {
     "name": "stdout",
     "output_type": "stream",
     "text": [
      "197/197 [==============================] - 1s 1ms/step\n"
     ]
    },
    {
     "data": {
      "text/plain": [
       "array([[49.50834 ],\n",
       "       [49.50834 ],\n",
       "       [43.893433],\n",
       "       ...,\n",
       "       [49.50834 ],\n",
       "       [49.50834 ],\n",
       "       [43.893433]], dtype=float32)"
      ]
     },
     "execution_count": 49,
     "metadata": {},
     "output_type": "execute_result"
    }
   ],
   "source": [
    "model.predict(X_test)"
   ]
  },
  {
   "cell_type": "code",
   "execution_count": 55,
   "metadata": {},
   "outputs": [],
   "source": [
    "dict_predict = {'sex' : {21: 1.0},\n",
    "'highest_qualification' : {21 : 5.0},\n",
    "'rural' : {21 : 1},\n",
    "'disability_status' : {21 : 0.0},\n",
    "'is_water_filter' : {21 : 2.0},\n",
    "'chew' : {21 : 7.0},\n",
    "'smoke' : {21 : 4.0 },\n",
    "'alcohol' : {21 : 4.0 },\n",
    "'treatment_source' : {21 : 9.0}}\n",
    "X_trial = pd.DataFrame(dict_predict)"
   ]
  },
  {
   "cell_type": "code",
   "execution_count": 57,
   "metadata": {},
   "outputs": [
    {
     "name": "stdout",
     "output_type": "stream",
     "text": [
      "1/1 [==============================] - 0s 144ms/step\n"
     ]
    },
    {
     "data": {
      "text/plain": [
       "array([[43.893433]], dtype=float32)"
      ]
     },
     "execution_count": 57,
     "metadata": {},
     "output_type": "execute_result"
    }
   ],
   "source": [
    "model.predict(X_trial)"
   ]
  }
 ],
 "metadata": {
  "colab": {
   "provenance": []
  },
  "kernelspec": {
   "display_name": "Python 3 (ipykernel)",
   "language": "python",
   "name": "python3"
  },
  "language_info": {
   "codemirror_mode": {
    "name": "ipython",
    "version": 3
   },
   "file_extension": ".py",
   "mimetype": "text/x-python",
   "name": "python",
   "nbconvert_exporter": "python",
   "pygments_lexer": "ipython3",
   "version": "3.9.7"
  }
 },
 "nbformat": 4,
 "nbformat_minor": 1
}
